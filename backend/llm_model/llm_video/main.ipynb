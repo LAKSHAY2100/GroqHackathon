{
 "cells": [
  {
   "cell_type": "code",
   "execution_count": 36,
   "id": "5b5a1ff7",
   "metadata": {},
   "outputs": [],
   "source": [
    "import validators\n",
    "from langchain_core.prompts import PromptTemplate\n",
    "from langchain_groq import ChatGroq\n",
    "from langchain.chains.summarize import load_summarize_chain\n",
    "from langchain_community.document_loaders import YoutubeLoader,UnstructuredURLLoader"
   ]
  },
  {
   "cell_type": "code",
   "execution_count": 37,
   "id": "03596218",
   "metadata": {},
   "outputs": [],
   "source": [
    "import os\n",
    "from dotenv import load_dotenv\n",
    "load_dotenv()\n",
    "os.environ[\"GROQ_API_KEY\"]=os.getenv(\"GROQ_API_KEY\")\n",
    "\n",
    "llm = ChatGroq(model=\"Gemma-7b-It\")\n"
   ]
  },
  {
   "cell_type": "code",
   "execution_count": 38,
   "id": "11bacbbe",
   "metadata": {},
   "outputs": [],
   "source": [
    "from langchain_core.output_parsers import JsonOutputParser\n",
    "from langchain_core.prompts import PromptTemplate\n",
    "\n",
    "\n",
    "output_parser=JsonOutputParser()\n",
    "prompt = PromptTemplate(\n",
    "    template=\"\"\"\n",
    "    Please analyze the video, create a summary, and provide a clickable index to its major contents.\n",
    "    \\n{format_instructions}\\n. Content :{text}\\n\"\"\",\n",
    "    input_variables=[\"text\"],\n",
    "    partial_variables={\"format_instructions\": output_parser.get_format_instructions()},\n",
    ")\n"
   ]
  },
  {
   "cell_type": "code",
   "execution_count": null,
   "id": "2ea40293",
   "metadata": {},
   "outputs": [],
   "source": [
    "genric_url = input(\"Enter a Youtube URL: \")\n",
    "if validators.url(genric_url):\n",
    "    if \"youtube.com\" in genric_url:\n",
    "        url = genric_url\n",
    "    loader = YoutubeLoader.from_youtube_url(url)"
   ]
  },
  {
   "cell_type": "code",
   "execution_count": null,
   "id": "5e3751d0",
   "metadata": {},
   "outputs": [],
   "source": []
  }
 ],
 "metadata": {
  "kernelspec": {
   "display_name": "Python 3",
   "language": "python",
   "name": "python3"
  },
  "language_info": {
   "codemirror_mode": {
    "name": "ipython",
    "version": 3
   },
   "file_extension": ".py",
   "mimetype": "text/x-python",
   "name": "python",
   "nbconvert_exporter": "python",
   "pygments_lexer": "ipython3",
   "version": "3.12.9"
  }
 },
 "nbformat": 4,
 "nbformat_minor": 5
}
